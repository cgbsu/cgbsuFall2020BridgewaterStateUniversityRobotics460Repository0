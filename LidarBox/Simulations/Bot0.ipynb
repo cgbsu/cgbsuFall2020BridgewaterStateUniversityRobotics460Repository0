{
 "cells": [
  {
   "cell_type": "code",
   "execution_count": 2,
   "metadata": {},
   "outputs": [],
   "source": [
    "import matplotlib.pyplot as plt"
   ]
  },
  {
   "cell_type": "code",
   "execution_count": 3,
   "metadata": {},
   "outputs": [],
   "source": [
    "import numpy as np"
   ]
  },
  {
   "cell_type": "code",
   "execution_count": 4,
   "metadata": {},
   "outputs": [],
   "source": [
    "def Creep( leftSpeed, rightSpeed, robotWidth ):\n",
    "    DeltaSpeedConstant = leftSpeed - rightSpeed\n",
    "    #theta = arctan( opp / adj ), opp = speed, adj = robotWidth\n",
    "    ThetaConstant = np.arctan( DeltaSpeedConstant / robotWidth )\n",
    "    magnitude = np.sqrt( - ( ( line0YHigh - 1 ) ** 2 ) / ( ( np.cos( theta ) ** 2 ) - 1 ) )\n",
    "    #arcLength = 2(pi)r( theta / 360 )\n",
    "    #ArcLengthConstant = 2 * np.PI * \n",
    "    np.sin( ThetaConstnat )"
   ]
  },
  {
   "cell_type": "code",
   "execution_count": 5,
   "metadata": {},
   "outputs": [
    {
     "data": {
      "text/plain": [
       "<Figure size 432x288 with 0 Axes>"
      ]
     },
     "execution_count": 5,
     "metadata": {},
     "output_type": "execute_result"
    },
    {
     "data": {
      "text/plain": [
       "<Figure size 432x288 with 0 Axes>"
      ]
     },
     "metadata": {},
     "output_type": "display_data"
    }
   ],
   "source": [
    "plt.figure()"
   ]
  },
  {
   "cell_type": "code",
   "execution_count": 17,
   "metadata": {},
   "outputs": [],
   "source": [
    "line0X = .0\n",
    "line0YLow = 1.0\n",
    "line0YHigh = 4.0\n",
    "line1X = 1.0\n",
    "line1YLow = 1.0\n",
    "line1YHigh = 2.0\n",
    "\n",
    "baseX = 3.0\n",
    "\n",
    "x = [ line0X, line1X ]\n",
    "yLow = [ line0YLow, line1YLow ]\n",
    "yHigh = [line0YHigh, line1YHigh ]"
   ]
  },
  {
   "cell_type": "code",
   "execution_count": 22,
   "metadata": {},
   "outputs": [
    {
     "data": {
      "image/png": "[encoded data removed]",
      "text/plain": [
       "<Figure size 432x288 with 1 Axes>"
      ]
     },
     "metadata": {},
     "output_type": "display_data"
    }
   ],
   "source": [
    "plt.margins( 1.0 )\n",
    "plt.vlines( x, yLow, yHigh )\n",
    "\n",
    "\n",
    "heightDifference = np.abs( line0YHigh - line1YHigh )\n",
    "\n",
    "theta = np.arctan( np.abs( ( line1YHigh - line0YHigh ) / ( line1X - line0X ) ) )\n",
    "\n",
    "radius = np.cos( theta ) * np.sqrt( - ( ( line0YHigh - 1 ) ** 2 ) / ( ( np.cos( theta ) ** 2 ) - 1 ) )\n",
    "\n",
    "plt.plot( [ line1X, radius, line0X ], [ line1YHigh , line1YLow, line0YHigh ], marker = 'o' )\n",
    "#plt.plot( line1X, line1YHigh, line0X,, marker = 'o' )\n",
    "plt.show()"
   ]
  },
  {
   "cell_type": "code",
   "execution_count": 20,
   "metadata": {},
   "outputs": [
    {
     "ename": "NameError",
     "evalue": "name 'theoryTheta' is not defined",
     "output_type": "error",
     "traceback": [
      "\u001b[1;31m---------------------------------------------------------------------------\u001b[0m",
      "\u001b[1;31mNameError\u001b[0m                                 Traceback (most recent call last)",
      "\u001b[1;32m<ipython-input-20-b3e47f1348f1>\u001b[0m in \u001b[0;36m<module>\u001b[1;34m()\u001b[0m\n\u001b[1;32m----> 1\u001b[1;33m \u001b[0mnp\u001b[0m\u001b[1;33m.\u001b[0m\u001b[0mcos\u001b[0m\u001b[1;33m(\u001b[0m \u001b[0mtheoryTheta\u001b[0m \u001b[1;33m)\u001b[0m \u001b[1;33m*\u001b[0m \u001b[0mline1YHigh\u001b[0m\u001b[1;33m\u001b[0m\u001b[0m\n\u001b[0m",
      "\u001b[1;31mNameError\u001b[0m: name 'theoryTheta' is not defined"
     ]
    }
   ],
   "source": [
    "np.cos( theoryTheta ) * line1YHigh"
   ]
  },
  {
   "cell_type": "code",
   "execution_count": null,
   "metadata": {},
   "outputs": [],
   "source": [
    "theoryTheta * 180.0 / np.pi"
   ]
  },
  {
   "cell_type": "code",
   "execution_count": null,
   "metadata": {},
   "outputs": [],
   "source": [
    "theta"
   ]
  },
  {
   "cell_type": "code",
   "execution_count": null,
   "metadata": {},
   "outputs": [],
   "source": [
    "np.cos( theta )"
   ]
  },
  {
   "cell_type": "code",
   "execution_count": null,
   "metadata": {},
   "outputs": [],
   "source": [
    "theta * 180.0 / np.pi"
   ]
  },
  {
   "cell_type": "code",
   "execution_count": null,
   "metadata": {},
   "outputs": [],
   "source": [
    "np.cos( theta ) * ( line0YHigh / heightDifference )"
   ]
  },
  {
   "cell_type": "code",
   "execution_count": null,
   "metadata": {},
   "outputs": [],
   "source": [
    "( line0YHigh / heightDifference )"
   ]
  },
  {
   "cell_type": "code",
   "execution_count": null,
   "metadata": {},
   "outputs": [],
   "source": [
    "np.cos( theta )"
   ]
  },
  {
   "cell_type": "code",
   "execution_count": null,
   "metadata": {},
   "outputs": [],
   "source": []
  },
  {
   "cell_type": "code",
   "execution_count": null,
   "metadata": {},
   "outputs": [],
   "source": []
  }
 ],
 "metadata": {
  "kernelspec": {
   "display_name": "Python 3",
   "language": "python",
   "name": "python3"
  },
  "language_info": {
   "codemirror_mode": {
    "name": "ipython",
    "version": 3
   },
   "file_extension": ".py",
   "mimetype": "text/x-python",
   "name": "python",
   "nbconvert_exporter": "python",
   "pygments_lexer": "ipython3",
   "version": "3.6.5"
  }
 },
 "nbformat": 4,
 "nbformat_minor": 2
}
